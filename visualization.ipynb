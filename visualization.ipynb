{
 "cells": [
  {
   "cell_type": "code",
   "execution_count": 1,
   "metadata": {
    "collapsed": true
   },
   "outputs": [],
   "source": [
    "import pandas as pd"
   ]
  },
  {
   "cell_type": "code",
   "execution_count": 2,
   "metadata": {
    "collapsed": true
   },
   "outputs": [],
   "source": [
    "bart = pd.read_csv(\"data/year_month_weekday.csv\")"
   ]
  },
  {
   "cell_type": "code",
   "execution_count": 20,
   "metadata": {
    "scrolled": true
   },
   "outputs": [],
   "source": [
    "bart_subset = bart[(bart['year']==1998) & (bart['month']==1) & (bart['weekday']=='Monday')]"
   ]
  },
  {
   "cell_type": "code",
   "execution_count": 3,
   "metadata": {
    "scrolled": true
   },
   "outputs": [
    {
     "data": {
      "text/plain": [
       "(68880, 14)"
      ]
     },
     "execution_count": 3,
     "metadata": {},
     "output_type": "execute_result"
    }
   ],
   "source": [
    "bart.shape"
   ]
  },
  {
   "cell_type": "code",
   "execution_count": 4,
   "metadata": {
    "scrolled": true
   },
   "outputs": [
    {
     "data": {
      "text/plain": [
       "array(['Ashby', 'Balboa Park', 'Bay Fair', 'Castro Valley',\n",
       "       'Civic Center/UN Plaza', 'Coliseum/Oakland Airport', 'Colma',\n",
       "       'Concord', 'Daly City', 'Downtown Berkeley', 'Dublin/Pleasanton',\n",
       "       'El Cerrito Plaza', 'El Cerrito del Norte', 'Embarcadero',\n",
       "       'Fremont', 'Fruitvale', 'Glen Park', 'Hayward', 'Lafayette',\n",
       "       'Lake Merritt', 'MacArthur', 'Millbrae', 'Montgomery St.',\n",
       "       'North Berkeley', 'North Concord/Martinez', 'Orinda',\n",
       "       'Pittsburg/Bay Point', 'Pleasant Hill/Contra Costa Centre',\n",
       "       'Powell St.', 'Richmond', 'Rockridge', 'San Bruno',\n",
       "       \"San Francisco Int'l Airport\", 'San Leandro', 'South Hayward',\n",
       "       'South San Francisco', 'Union City', 'Walnut Creek',\n",
       "       'West Dublin/Pleasanton', 'West Oakland'], dtype=object)"
      ]
     },
     "execution_count": 4,
     "metadata": {},
     "output_type": "execute_result"
    }
   ],
   "source": [
    "import numpy as np\n",
    "np.unique(bart['name'])"
   ]
  },
  {
   "cell_type": "code",
   "execution_count": 5,
   "metadata": {
    "collapsed": true
   },
   "outputs": [],
   "source": [
    "import folium"
   ]
  },
  {
   "cell_type": "code",
   "execution_count": 6,
   "metadata": {
    "collapsed": true
   },
   "outputs": [],
   "source": [
    "folium_map = folium.Map(location = [37.936887, -122.353165])\n"
   ]
  },
  {
   "cell_type": "code",
   "execution_count": 21,
   "metadata": {},
   "outputs": [],
   "source": [
    "for index, row in bart_subset.iterrows():\n",
    "    radius = row[\"num_riders\"] / 200\n",
    "    folium.CircleMarker(location = (row[\"gtfs_latitude\"], row[\"gtfs_longitude\"]),radius = radius).add_to(folium_map)"
   ]
  },
  {
   "cell_type": "code",
   "execution_count": 22,
   "metadata": {},
   "outputs": [
    {
     "name": "stderr",
     "output_type": "stream",
     "text": [
      "IOPub data rate exceeded.\n",
      "The notebook server will temporarily stop sending output\n",
      "to the client in order to avoid crashing it.\n",
      "To change this limit, set the config variable\n",
      "`--NotebookApp.iopub_data_rate_limit`.\n"
     ]
    }
   ],
   "source": [
    "folium_map"
   ]
  }
 ],
 "metadata": {
  "kernelspec": {
   "display_name": "Python 2",
   "language": "python",
   "name": "python2"
  },
  "language_info": {
   "codemirror_mode": {
    "name": "ipython",
    "version": 2
   },
   "file_extension": ".py",
   "mimetype": "text/x-python",
   "name": "python",
   "nbconvert_exporter": "python",
   "pygments_lexer": "ipython2",
   "version": "2.7.14"
  }
 },
 "nbformat": 4,
 "nbformat_minor": 2
}
