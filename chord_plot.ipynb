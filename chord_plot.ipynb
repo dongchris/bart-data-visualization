{
 "cells": [
  {
   "cell_type": "code",
   "execution_count": 182,
   "metadata": {
    "collapsed": true
   },
   "outputs": [],
   "source": [
    "import pandas as pd\n",
    "import numpy as np\n",
    "import numpy\n",
    "import plotly.plotly as py\n",
    "import plotly.figure_factory as ff\n",
    "from plotly.graph_objs import *"
   ]
  },
  {
   "cell_type": "code",
   "execution_count": 183,
   "metadata": {
    "collapsed": true
   },
   "outputs": [],
   "source": [
    "bart = pd.read_csv(\"data/bart_data.csv\")"
   ]
  },
  {
   "cell_type": "code",
   "execution_count": 227,
   "metadata": {},
   "outputs": [],
   "source": [
    "bart2017 = bart[bart['yr']==2014][['start','term','riders']]"
   ]
  },
  {
   "cell_type": "code",
   "execution_count": 228,
   "metadata": {},
   "outputs": [],
   "source": [
    "data = bart2017.groupby(['start','term'])['riders'].sum().reset_index().pivot(index='start',columns='term', values='riders')"
   ]
  },
  {
   "cell_type": "code",
   "execution_count": 229,
   "metadata": {},
   "outputs": [],
   "source": [
    "s = pd.Series(['MB',\n",
    "'SO',\n",
    "'SB',\n",
    "'SS',\n",
    "'CM',\n",
    "'DC',\n",
    "'BP',\n",
    "'GP',\n",
    "'24',\n",
    "'16',\n",
    "'CC',\n",
    "'PL',\n",
    "'MT',\n",
    "'EM',\n",
    "'AS',\n",
    "'BK',\n",
    "'NB',\n",
    "'EP',\n",
    "'EN',\n",
    "'RM',\n",
    "'OW',\n",
    "'12',\n",
    "'19',\n",
    "'MA',\n",
    "'RR',\n",
    "'OR',\n",
    "'LF',\n",
    "'WC',\n",
    "'PH',\n",
    "'CN',\n",
    "'NC',\n",
    "'WP',\n",
    "'LM',\n",
    "'FV',\n",
    "'CL',\n",
    "'OA',\n",
    "'SL',\n",
    "'BF',\n",
    "'CV',\n",
    "'WD',\n",
    "'ED',\n",
    "'HY',\n",
    "'SH',\n",
    "'UC',\n",
    "'FM',\n",
    "'WS',\n",
    "], dtype = \"category\")"
   ]
  },
  {
   "cell_type": "code",
   "execution_count": 230,
   "metadata": {},
   "outputs": [],
   "source": [
    "data = data.loc[s]"
   ]
  },
  {
   "cell_type": "code",
   "execution_count": 231,
   "metadata": {},
   "outputs": [],
   "source": [
    "data = data[s]"
   ]
  },
  {
   "cell_type": "code",
   "execution_count": 222,
   "metadata": {
    "scrolled": true
   },
   "outputs": [],
   "source": [
    "data.to_csv(\"matrix2014.csv\")"
   ]
  },
  {
   "cell_type": "code",
   "execution_count": 210,
   "metadata": {
    "collapsed": true
   },
   "outputs": [],
   "source": [
    "color_list = ['#8dd3c7', # Daly City - SFO (0)\n",
    "'#ffffb3', # San Francisco (1)\n",
    "'#bebada', # Berkeley (2)\n",
    "'#fb8072', # Oakland (3)\n",
    "'#80b1d3', # Pittsburg Bay Point (4)\n",
    "'#fdb462', # San Leandro - Dublin / Pleasanton (5)\n",
    "'#b3de69'] # Fremont (6)"
   ]
  },
  {
   "cell_type": "code",
   "execution_count": 190,
   "metadata": {},
   "outputs": [],
   "source": [
    "ideo_colors = [color_list[i] for i in [0,\n",
    "0,\n",
    "0,\n",
    "0,\n",
    "0,\n",
    "0,\n",
    "1,\n",
    "1,\n",
    "1,\n",
    "1,\n",
    "1,\n",
    "1,\n",
    "1,\n",
    "1,\n",
    "2,\n",
    "2,\n",
    "2,\n",
    "2,\n",
    "2,\n",
    "2,\n",
    "3,\n",
    "3,\n",
    "3,\n",
    "3,\n",
    "3,\n",
    "3,\n",
    "3,\n",
    "4,\n",
    "4,\n",
    "4,\n",
    "4,\n",
    "4,\n",
    "5,\n",
    "5,\n",
    "5,\n",
    "5,\n",
    "5,\n",
    "5,\n",
    "5,\n",
    "5,\n",
    "5,\n",
    "6,\n",
    "6,\n",
    "6,\n",
    "6,\n",
    "6]]"
   ]
  },
  {
   "cell_type": "code",
   "execution_count": 192,
   "metadata": {},
   "outputs": [
    {
     "data": {
      "text/plain": [
       "['#8dd3c7',\n",
       " '#8dd3c7',\n",
       " '#8dd3c7',\n",
       " '#8dd3c7',\n",
       " '#8dd3c7',\n",
       " '#8dd3c7',\n",
       " '#ffffb3',\n",
       " '#ffffb3',\n",
       " '#ffffb3',\n",
       " '#ffffb3',\n",
       " '#ffffb3',\n",
       " '#ffffb3',\n",
       " '#ffffb3',\n",
       " '#ffffb3',\n",
       " '#bebada',\n",
       " '#bebada',\n",
       " '#bebada',\n",
       " '#bebada',\n",
       " '#bebada',\n",
       " '#bebada',\n",
       " '#fb8072',\n",
       " '#fb8072',\n",
       " '#fb8072',\n",
       " '#fb8072',\n",
       " '#fb8072',\n",
       " '#fb8072',\n",
       " '#fb8072',\n",
       " '#80b1d3',\n",
       " '#80b1d3',\n",
       " '#80b1d3',\n",
       " '#80b1d3',\n",
       " '#80b1d3',\n",
       " '#fdb462',\n",
       " '#fdb462',\n",
       " '#fdb462',\n",
       " '#fdb462',\n",
       " '#fdb462',\n",
       " '#fdb462',\n",
       " '#fdb462',\n",
       " '#fdb462',\n",
       " '#fdb462',\n",
       " '#b3de69',\n",
       " '#b3de69',\n",
       " '#b3de69',\n",
       " '#b3de69',\n",
       " '#b3de69']"
      ]
     },
     "execution_count": 192,
     "metadata": {},
     "output_type": "execute_result"
    }
   ],
   "source": [
    "ideo_colors"
   ]
  }
 ],
 "metadata": {
  "kernelspec": {
   "display_name": "Python 2",
   "language": "python",
   "name": "python2"
  },
  "language_info": {
   "codemirror_mode": {
    "name": "ipython",
    "version": 2
   },
   "file_extension": ".py",
   "mimetype": "text/x-python",
   "name": "python",
   "nbconvert_exporter": "python",
   "pygments_lexer": "ipython2",
   "version": "2.7.14"
  }
 },
 "nbformat": 4,
 "nbformat_minor": 2
}
