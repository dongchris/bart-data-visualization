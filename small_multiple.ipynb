{
 "cells": [
  {
   "cell_type": "code",
   "execution_count": 110,
   "metadata": {},
   "outputs": [],
   "source": [
    "import pandas as pd\n",
    "import plotly\n",
    "import plotly.graph_objs as go\n",
    "from plotly import tools"
   ]
  },
  {
   "cell_type": "markdown",
   "metadata": {},
   "source": [
    "## Loading Data"
   ]
  },
  {
   "cell_type": "code",
   "execution_count": 111,
   "metadata": {},
   "outputs": [],
   "source": [
    "bart = pd.read_csv(\"data/bart_data.csv\")"
   ]
  },
  {
   "cell_type": "code",
   "execution_count": 112,
   "metadata": {},
   "outputs": [],
   "source": [
    "bart = bart[['yr','term','riders']]"
   ]
  },
  {
   "cell_type": "code",
   "execution_count": 113,
   "metadata": {},
   "outputs": [
    {
     "data": {
      "text/plain": [
       "2001"
      ]
     },
     "execution_count": 113,
     "metadata": {},
     "output_type": "execute_result"
    }
   ],
   "source": [
    "bart['yr'].min()"
   ]
  },
  {
   "cell_type": "markdown",
   "metadata": {},
   "source": [
    "## Create aggregate by year"
   ]
  },
  {
   "cell_type": "code",
   "execution_count": 114,
   "metadata": {},
   "outputs": [],
   "source": [
    "bart = bart.groupby(['yr','term'])['riders'].sum().reset_index()"
   ]
  },
  {
   "cell_type": "markdown",
   "metadata": {},
   "source": [
    "## Changing two letter code to full name"
   ]
  },
  {
   "cell_type": "code",
   "execution_count": 115,
   "metadata": {},
   "outputs": [],
   "source": [
    "mapping = dict({\n",
    "    'MB':'Millbrae',\n",
    "'SO':'SFO',\n",
    "'SB':'San Bruno',\n",
    "'SS':'South San Francisco',\n",
    "'CM':'Colma',\n",
    "'DC':'Daly City',\n",
    "'BP':'Balboa Park',\n",
    "'GP':'Glen Park',\n",
    "'24':'24th Street Mission',\n",
    "'16':'16th Street Mission',\n",
    "'CC':'Civic Center',\n",
    "'PL':'Powell Street',\n",
    "'MT':'Montgomery Street',\n",
    "'EM':'Embarcadero',\n",
    "'AS':'Ashby',\n",
    "'BK':'Berkeley',\n",
    "'NB':'North Berkeley',\n",
    "'EP':'El Cerrito Plaza',\n",
    "'EN':'El Cerrito Del Norte',\n",
    "'RM':'Richmond',\n",
    "'OW':'West Oakland',\n",
    "'12':'12th Street / Oakland City Center',\n",
    "'19':'19th Street Oakland',\n",
    "'MA':'MacArthur',\n",
    "'RR':'Rockridge',\n",
    "'OR':'Orinda',\n",
    "'LF':'Lafayette',\n",
    "'WC':'Walnut Creek',\n",
    "'PH':'Pleasant Hill',\n",
    "'CN':'Concord',\n",
    "'NC':'North Concord',\n",
    "'WP':'Pittsburg/Bay Point',\n",
    "'LM':'Lake Merritt',\n",
    "'FV':'Fruitvale',\n",
    "'CL':'Coliseum',\n",
    "'OA':'Oakland International Airport',\n",
    "'SL':'San Leandro',\n",
    "'BF':'Bayfair',\n",
    "'CV':'Castro Valley',\n",
    "'WD':'West Dublin/Pleasanton',\n",
    "'ED':'Dublin/Pleasanton',\n",
    "'HY':'Hayward',\n",
    "'SH':'South Hayward',\n",
    "'UC':'Union City',\n",
    "'FM':'Fremont',\n",
    "'WS':'Warm Springs'\n",
    "})"
   ]
  },
  {
   "cell_type": "code",
   "execution_count": 116,
   "metadata": {},
   "outputs": [],
   "source": [
    "bart['term'].replace(mapping, inplace = True)"
   ]
  },
  {
   "cell_type": "code",
   "execution_count": 117,
   "metadata": {},
   "outputs": [],
   "source": [
    "station_list = sorted(mapping.values())"
   ]
  },
  {
   "cell_type": "markdown",
   "metadata": {},
   "source": [
    "## Creating a loop to store all 46 line plots"
   ]
  },
  {
   "cell_type": "code",
   "execution_count": 136,
   "metadata": {},
   "outputs": [
    {
     "name": "stdout",
     "output_type": "stream",
     "text": [
      "This is the format of your plot grid:\n",
      "[ (1,1) x1,y1 ]    [ (1,2) x2,y2 ]    [ (1,3) x3,y3 ]    [ (1,4) x4,y4 ]    [ (1,5) x5,y5 ]    [ (1,6) x6,y6 ]  \n",
      "[ (2,1) x7,y7 ]    [ (2,2) x8,y8 ]    [ (2,3) x9,y9 ]    [ (2,4) x10,y10 ]  [ (2,5) x11,y11 ]  [ (2,6) x12,y12 ]\n",
      "[ (3,1) x13,y13 ]  [ (3,2) x14,y14 ]  [ (3,3) x15,y15 ]  [ (3,4) x16,y16 ]  [ (3,5) x17,y17 ]  [ (3,6) x18,y18 ]\n",
      "[ (4,1) x19,y19 ]  [ (4,2) x20,y20 ]  [ (4,3) x21,y21 ]  [ (4,4) x22,y22 ]  [ (4,5) x23,y23 ]  [ (4,6) x24,y24 ]\n",
      "[ (5,1) x25,y25 ]  [ (5,2) x26,y26 ]  [ (5,3) x27,y27 ]  [ (5,4) x28,y28 ]  [ (5,5) x29,y29 ]  [ (5,6) x30,y30 ]\n",
      "[ (6,1) x31,y31 ]  [ (6,2) x32,y32 ]  [ (6,3) x33,y33 ]  [ (6,4) x34,y34 ]  [ (6,5) x35,y35 ]  [ (6,6) x36,y36 ]\n",
      "[ (7,1) x37,y37 ]  [ (7,2) x38,y38 ]  [ (7,3) x39,y39 ]  [ (7,4) x40,y40 ]  [ (7,5) x41,y41 ]  [ (7,6) x42,y42 ]\n",
      "[ (8,1) x43,y43 ]  [ (8,2) x44,y44 ]  [ (8,3) x45,y45 ]  [ (8,4) x46,y46 ]  [ (8,5) x47,y47 ]  [ (8,6) x48,y48 ]\n",
      "[ (9,1) x49,y49 ]  [ (9,2) x50,y50 ]  [ (9,3) x51,y51 ]  [ (9,4) x52,y52 ]  [ (9,5) x53,y53 ]  [ (9,6) x54,y54 ]\n",
      "\n"
     ]
    },
    {
     "data": {
      "text/plain": [
       "'file:///home/chris/bart-data-visualization/simple-subplot.html'"
      ]
     },
     "execution_count": 136,
     "metadata": {},
     "output_type": "execute_result"
    }
   ],
   "source": [
    "# station_list = sorted(['Civic Center', 'SFO',\n",
    "#                'Millbrae', 'Embarcadero', 'Berkeley', 'Oakland International Airport', \n",
    "#                'Fremont', 'Concord', 'Daly City', 'San Leandro',\n",
    "#                'San Bruno', 'Powell Street','Colma','Richmond','Montgomery Street'])\n",
    "fig = tools.make_subplots(rows=9, cols=6, subplot_titles=station_list)\n",
    "trace_list = []\n",
    "\n",
    " \n",
    "for station in station_list:\n",
    "    tmp = bart[bart['term']==station]\n",
    "    trace = go.Scatter(\n",
    "    x = tmp['yr'],\n",
    "    y = tmp['riders'],\n",
    "    marker = {'color':'#00b359'}\n",
    "    )\n",
    "    trace_list.append(trace)\n",
    "count=0\n",
    "for i in range(1,10):\n",
    "        for j in range(1,7):\n",
    "            if count<=45:\n",
    "                fig.append_trace(trace_list[count], i, j)\n",
    "                count+=1\n",
    "            else:\n",
    "                break\n",
    "for i in range(1, len(station_list) + 1):\n",
    "\n",
    "    fig['layout']['xaxis%s' %i].update(range = [2000, 2018])\n",
    "\n",
    "fig['layout'].update(height = 1000, title='Key BART Stations Growth from 2001 to 2017', showlegend = False)\n",
    "plotly.offline.plot(fig, filename='simple-subplot')"
   ]
  },
  {
   "cell_type": "code",
   "execution_count": 137,
   "metadata": {},
   "outputs": [],
   "source": [
    "import plotly.tools as tls"
   ]
  },
  {
   "cell_type": "markdown",
   "metadata": {},
   "source": [
    "## Get link for plotly "
   ]
  },
  {
   "cell_type": "code",
   "execution_count": 140,
   "metadata": {},
   "outputs": [
    {
     "data": {
      "text/plain": [
       "'<iframe id=\"igraph\" scrolling=\"no\" style=\"border:none;\" seamless=\"seamless\" src=\"https://plot.ly/~ChrisDong/7.embed\" height=\"525\" width=\"100%\"></iframe>'"
      ]
     },
     "execution_count": 140,
     "metadata": {},
     "output_type": "execute_result"
    }
   ],
   "source": [
    "tls.get_embed('https://plot.ly/~ChrisDong/7/')"
   ]
  }
 ],
 "metadata": {
  "kernelspec": {
   "display_name": "Python 2",
   "language": "python",
   "name": "python2"
  },
  "language_info": {
   "codemirror_mode": {
    "name": "ipython",
    "version": 2
   },
   "file_extension": ".py",
   "mimetype": "text/x-python",
   "name": "python",
   "nbconvert_exporter": "python",
   "pygments_lexer": "ipython2",
   "version": "2.7.14"
  }
 },
 "nbformat": 4,
 "nbformat_minor": 2
}
